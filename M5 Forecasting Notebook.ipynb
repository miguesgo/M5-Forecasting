{
 "cells": [
  {
   "cell_type": "markdown",
   "id": "2554a832",
   "metadata": {},
   "source": [
    "### Se genera un nuevo archivo sales_formatted"
   ]
  },
  {
   "cell_type": "code",
   "execution_count": 9,
   "id": "596a0ea5",
   "metadata": {},
   "outputs": [],
   "source": [
    "import pandas\n",
    "## calendar = pandas.read_csv(\"calendar.csv\")\n",
    "sales_original = pandas.read_csv(\"sales_train_validation.csv\")\n",
    "## sell_prices = pandas.read_csv(\"sell_prices.csv\")\n",
    "\n",
    "## Convertir columnas [d_1,d_1913] a registros de una columna d\n",
    "## Para esto utilizamos un melt\n",
    "id_columns = [\"item_id\", \"dept_id\", \"cat_id\", \"store_id\"]\n",
    "value_columns = [c for c in sales_original.columns if c.startswith(\"d_\")]\n",
    "\n",
    "sales_formatted = sales_original.melt(\n",
    "    id_vars = id_columns,\n",
    "    value_vars = value_columns,\n",
    "    var_name = \"d\",   \n",
    "    value_name = \"sales\"\n",
    ")\n",
    "\n",
    "## Exportamos sales_formatted a csv\n",
    "sales_formatted.to_csv(\"sales_formatted.csv\", index=False)\n",
    "## Execution time: 1m 27s\n",
    "\n"
   ]
  },
  {
   "cell_type": "markdown",
   "id": "04f68953",
   "metadata": {},
   "source": [
    "### Se importan librerias"
   ]
  },
  {
   "cell_type": "code",
   "execution_count": null,
   "id": "f69f90c0",
   "metadata": {},
   "outputs": [],
   "source": [
    "## import pandas\n",
    "\n",
    "## calendar = pandas.read_csv(\"calendar.csv\")\n",
    "## sales_formatted = pandas.read_csv(\"sales_formatted.csv\")\n",
    "## sell_prices = pandas.read_csv(\"sell_prices.csv\")"
   ]
  },
  {
   "cell_type": "markdown",
   "id": "2ba4aac5",
   "metadata": {},
   "source": [
    "### Se comienza con el analisis"
   ]
  },
  {
   "cell_type": "code",
   "execution_count": null,
   "id": "31d3640c",
   "metadata": {},
   "outputs": [
    {
     "name": "stderr",
     "output_type": "stream",
     "text": [
      "C:\\Users\\migue\\AppData\\Local\\Temp\\ipykernel_13616\\1492611132.py:30: UserWarning: pandas only supports SQLAlchemy connectable (engine/connection) or database string URI or sqlite3 DBAPI2 connection. Other DBAPI2 objects are not tested. Please consider using SQLAlchemy.\n",
      "  dataFrame = pd.read_sql(query, connection)\n"
     ]
    },
    {
     "data": {
      "text/html": [
       "<div>\n",
       "<style scoped>\n",
       "    .dataframe tbody tr th:only-of-type {\n",
       "        vertical-align: middle;\n",
       "    }\n",
       "\n",
       "    .dataframe tbody tr th {\n",
       "        vertical-align: top;\n",
       "    }\n",
       "\n",
       "    .dataframe thead th {\n",
       "        text-align: right;\n",
       "    }\n",
       "</style>\n",
       "<table border=\"1\" class=\"dataframe\">\n",
       "  <thead>\n",
       "    <tr style=\"text-align: right;\">\n",
       "      <th></th>\n",
       "      <th>store_id</th>\n",
       "      <th>item_id</th>\n",
       "      <th>max_sales</th>\n",
       "    </tr>\n",
       "  </thead>\n",
       "  <tbody>\n",
       "    <tr>\n",
       "      <th>0</th>\n",
       "      <td>CA_1</td>\n",
       "      <td>FOODS_3_090</td>\n",
       "      <td>127203</td>\n",
       "    </tr>\n",
       "    <tr>\n",
       "      <th>1</th>\n",
       "      <td>CA_2</td>\n",
       "      <td>FOODS_3_586</td>\n",
       "      <td>63416</td>\n",
       "    </tr>\n",
       "    <tr>\n",
       "      <th>2</th>\n",
       "      <td>CA_3</td>\n",
       "      <td>FOODS_3_090</td>\n",
       "      <td>250502</td>\n",
       "    </tr>\n",
       "    <tr>\n",
       "      <th>3</th>\n",
       "      <td>CA_4</td>\n",
       "      <td>FOODS_3_090</td>\n",
       "      <td>52264</td>\n",
       "    </tr>\n",
       "    <tr>\n",
       "      <th>4</th>\n",
       "      <td>TX_1</td>\n",
       "      <td>FOODS_3_586</td>\n",
       "      <td>112454</td>\n",
       "    </tr>\n",
       "    <tr>\n",
       "      <th>5</th>\n",
       "      <td>TX_2</td>\n",
       "      <td>FOODS_3_586</td>\n",
       "      <td>192835</td>\n",
       "    </tr>\n",
       "    <tr>\n",
       "      <th>6</th>\n",
       "      <td>TX_3</td>\n",
       "      <td>FOODS_3_586</td>\n",
       "      <td>150122</td>\n",
       "    </tr>\n",
       "    <tr>\n",
       "      <th>7</th>\n",
       "      <td>WI_1</td>\n",
       "      <td>FOODS_3_226</td>\n",
       "      <td>78993</td>\n",
       "    </tr>\n",
       "    <tr>\n",
       "      <th>8</th>\n",
       "      <td>WI_2</td>\n",
       "      <td>FOODS_3_226</td>\n",
       "      <td>69966</td>\n",
       "    </tr>\n",
       "    <tr>\n",
       "      <th>9</th>\n",
       "      <td>WI_3</td>\n",
       "      <td>FOODS_3_090</td>\n",
       "      <td>121434</td>\n",
       "    </tr>\n",
       "  </tbody>\n",
       "</table>\n",
       "</div>"
      ],
      "text/plain": [
       "  store_id      item_id  max_sales\n",
       "0     CA_1  FOODS_3_090     127203\n",
       "1     CA_2  FOODS_3_586      63416\n",
       "2     CA_3  FOODS_3_090     250502\n",
       "3     CA_4  FOODS_3_090      52264\n",
       "4     TX_1  FOODS_3_586     112454\n",
       "5     TX_2  FOODS_3_586     192835\n",
       "6     TX_3  FOODS_3_586     150122\n",
       "7     WI_1  FOODS_3_226      78993\n",
       "8     WI_2  FOODS_3_226      69966\n",
       "9     WI_3  FOODS_3_090     121434"
      ]
     },
     "execution_count": 1,
     "metadata": {},
     "output_type": "execute_result"
    }
   ],
   "source": [
    "import pandas as pd\n",
    "import pyodbc as db\n",
    "\n",
    "connection = db.connect(\"DRIVER={ODBC Driver 17 for SQL Server};SERVER=MIGUESGO;DATABASE=M5_Forcasting;Trusted_Connection=yes;\")\n",
    "query = \"\"\"\n",
    "    WITH total_sales_from_item AS (\n",
    "        -- Total sales from every item in all stores\n",
    "        SELECT store_id,\n",
    "            item_id,\n",
    "            SUM(sales) AS total_sales\n",
    "        FROM dbo.sales_formatted\n",
    "        GROUP BY store_id, item_id\n",
    "    ), max_sales_from_store AS (\n",
    "        -- Max sales from every store\n",
    "        SELECT store_id,\n",
    "        MAX(total_sales) as max_sales\n",
    "        FROM total_sales_from_item\n",
    "        GROUP BY store_id\n",
    "    )\n",
    "    SELECT TS.store_id,\n",
    "        TS.item_id,\n",
    "        MS.max_sales\n",
    "    FROM total_sales_from_item AS TS\n",
    "    JOIN max_sales_from_store AS MS\n",
    "        ON TS.store_id = MS.store_id\n",
    "        AND TS.total_sales = MS.max_sales\n",
    "    ORDER BY store_id;\n",
    "\"\"\"\n",
    "\n",
    "dataFrame = pd.read_sql(query, connection)\n"
   ]
  },
  {
   "cell_type": "code",
   "execution_count": 2,
   "id": "425fd564",
   "metadata": {},
   "outputs": [
    {
     "data": {
      "image/png": "[encoded data removed]",
      "text/plain": [
       "<Figure size 900x500 with 1 Axes>"
      ]
     },
     "metadata": {},
     "output_type": "display_data"
    }
   ],
   "source": [
    "import matplotlib.pyplot as plt\n",
    "\n",
    "dataFramePlot = dataFrame.sort_values(\"max_sales\", ascending=True)\n",
    "# Grafico de barras horizontal\n",
    "fig, ax = plt.subplots(figsize=(9,5))\n",
    "ax.barh(dataFramePlot[\"store_id\"], dataFramePlot[\"max_sales\"])\n",
    "\n",
    "# Etiquetas con el item al final de cada barra\n",
    "for y, (val, item) in enumerate(zip(dataFramePlot[\"max_sales\"], dataFramePlot[\"item_id\"])):\n",
    "    ax.text(val, y, f\"  {item}\", va=\"center\")\n",
    "\n",
    "ax.set_title(\"Producto más vendido por tienda (unidades acumuladas)\")\n",
    "ax.set_xlabel(\"Unidades\")\n",
    "ax.set_ylabel(\"Tienda\")\n",
    "plt.tight_layout()\n",
    "plt.show()"
   ]
  }
 ],
 "metadata": {
  "kernelspec": {
   "display_name": "Python 3",
   "language": "python",
   "name": "python3"
  },
  "language_info": {
   "codemirror_mode": {
    "name": "ipython",
    "version": 3
   },
   "file_extension": ".py",
   "mimetype": "text/x-python",
   "name": "python",
   "nbconvert_exporter": "python",
   "pygments_lexer": "ipython3",
   "version": "3.13.7"
  }
 },
 "nbformat": 4,
 "nbformat_minor": 5
}
